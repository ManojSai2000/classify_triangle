{
  "nbformat": 4,
  "nbformat_minor": 0,
  "metadata": {
    "colab": {
      "provenance": []
    },
    "kernelspec": {
      "name": "python3",
      "display_name": "Python 3"
    },
    "language_info": {
      "name": "python"
    }
  },
  "cells": [
    {
      "cell_type": "code",
      "execution_count": 29,
      "metadata": {
        "id": "mC8OMmzksn_B"
      },
      "outputs": [],
      "source": [
        "def classify_Triangle(a, b, c):\n",
        "  rightTriangle = False\n",
        "  if int((a * a) + (b * b)) == int(c * c):\n",
        "    rightTriangle = True\n",
        "  if rightTriangle:\n",
        "    if a == b and b == c:\n",
        "      return \"Given Triangle is Equilateral and Right Angle\"\n",
        "    elif a == b or b == c or a == c:\n",
        "      return \"Given Triangle is Isosceles and Right Angle\"\n",
        "    else:\n",
        "      return \"Given Triangle is Scalene and Right Angle\"\n",
        "  else:\n",
        "    if a == b and b == c:\n",
        "      return \"Given Triangle is Equilateral and Not a Right Angle\"\n",
        "    elif a == b or b == c or a == c:\n",
        "      return \"Given Triangle is Isosceles and Not a Right Angle\"\n",
        "    else:\n",
        "      return \"Given Triangle is Scalene and Not a Right Angle\"\n"
      ]
    },
    {
      "cell_type": "code",
      "source": [
        "import unittest\n",
        "import math\n",
        "\n",
        "class TestTypeOfTriangle(unittest.TestCase):\n",
        "    def test_scalene_NotRightAngled(self):\n",
        "        self.assertEqual(classify_Triangle(1,2,3), \"Given Triangle is Scalene and Not a Right Angle\")\n",
        "    def test_scalene_RightAngled(self):\n",
        "        self.assertEqual(classify_Triangle(3,4,5), \"Given Triangle is Scalene and Right Angle\")\n",
        "\n",
        "    def test_equilateral_NotRightAngled(self):\n",
        "        self.assertEqual(classify_Triangle(3,3,3), \"Given Triangle is Equilateral and Not a Right Angle\")\n",
        "    def test_equilateral_RightAngled(self):\n",
        "        self.assertNotEqual(classify_Triangle(2,2,2), \"Given Triangle is Equilateral and Right Angle\")\n",
        "\n",
        "    def test_isosceles_NotRightAngled(self):\n",
        "        self.assertEqual(classify_Triangle(2,3,2), \"Given Triangle is Isosceles and Not a Right Angle\")\n",
        "    def test_isosceles_RightAngled(self):\n",
        "        self.assertEqual(classify_Triangle(math.sqrt(2),math.sqrt(2),2), \"Given Triangle is Isosceles and Right Angle\")\n"
      ],
      "metadata": {
        "id": "eRFE9FT5wcyM"
      },
      "execution_count": 30,
      "outputs": []
    },
    {
      "cell_type": "code",
      "source": [
        "unittest.main(argv=[''], exit=False)"
      ],
      "metadata": {
        "colab": {
          "base_uri": "https://localhost:8080/"
        },
        "id": "r7kcZmEfwoQX",
        "outputId": "5f30a910-4998-4f73-f81b-23a2d1b6a840"
      },
      "execution_count": 31,
      "outputs": [
        {
          "output_type": "stream",
          "name": "stderr",
          "text": [
            "......\n",
            "----------------------------------------------------------------------\n",
            "Ran 6 tests in 0.012s\n",
            "\n",
            "OK\n"
          ]
        },
        {
          "output_type": "execute_result",
          "data": {
            "text/plain": [
              "<unittest.main.TestProgram at 0x7c4cfc46d4b0>"
            ]
          },
          "metadata": {},
          "execution_count": 31
        }
      ]
    },
    {
      "cell_type": "code",
      "source": [],
      "metadata": {
        "id": "ike7R8RzyvMS"
      },
      "execution_count": null,
      "outputs": []
    }
  ]
}